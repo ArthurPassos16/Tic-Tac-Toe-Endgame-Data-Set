{
 "cells": [
  {
   "cell_type": "markdown",
   "id": "318ca860",
   "metadata": {},
   "source": [
    "# Tic-Tac-Toe Endgame\n",
    "Para resolver o problema do tic-tac-toe endgame, usaremos como dataset 958 exemplos de formações finais de jogos, onde para as features existem três valores possíveis {x,o,b}, sendo _x_ representando um x no campo, _o_ representando um círculo e _b_ representando um campo vazio.\n",
    "Por exemplo, se tivermos _X=[x,x,x,x,o,o,x,o,o]_, então teremos um campo da seguinte forma:\n",
    "<br>xxx<br>\n",
    "xoo<br>\n",
    "xoo<br>\n",
    "Nesse caso, o _x_ venceu e por iso, a sua classe é _positive_. Caso contrário, a sua classe é _negative_\n",
    "\n",
    "## Importando bibliotecas e formatando o dataset\n",
    "Para trabalharmos com o dataset, consideraremos que _[x,o,b]=[1,-1,0]_, e que _[positive,negative]=[1,-1]_"
   ]
  },
  {
   "cell_type": "code",
   "execution_count": 1,
   "id": "01dae415",
   "metadata": {},
   "outputs": [
    {
     "name": "stdout",
     "output_type": "stream",
     "text": [
      "Requirement already satisfied: numpy in c:\\users\\gscosta\\appdata\\local\\programs\\python\\python39\\lib\\site-packages (1.20.3)\n",
      "Requirement already satisfied: pandas in c:\\users\\gscosta\\appdata\\local\\programs\\python\\python39\\lib\\site-packages (1.2.4)\n",
      "Requirement already satisfied: pytz>=2017.3 in c:\\users\\gscosta\\appdata\\local\\programs\\python\\python39\\lib\\site-packages (from pandas) (2021.1)\n",
      "Requirement already satisfied: python-dateutil>=2.7.3 in c:\\users\\gscosta\\appdata\\local\\programs\\python\\python39\\lib\\site-packages (from pandas) (2.8.1)\n",
      "Requirement already satisfied: numpy>=1.16.5 in c:\\users\\gscosta\\appdata\\local\\programs\\python\\python39\\lib\\site-packages (from pandas) (1.20.3)\n",
      "Requirement already satisfied: six>=1.5 in c:\\users\\gscosta\\appdata\\local\\programs\\python\\python39\\lib\\site-packages (from python-dateutil>=2.7.3->pandas) (1.16.0)\n",
      "Requirement already satisfied: scikit-learn in c:\\users\\gscosta\\appdata\\local\\programs\\python\\python39\\lib\\site-packages (0.24.2)\n",
      "Requirement already satisfied: numpy>=1.13.3 in c:\\users\\gscosta\\appdata\\local\\programs\\python\\python39\\lib\\site-packages (from scikit-learn) (1.20.3)\n",
      "Requirement already satisfied: joblib>=0.11 in c:\\users\\gscosta\\appdata\\local\\programs\\python\\python39\\lib\\site-packages (from scikit-learn) (1.0.1)\n",
      "Requirement already satisfied: threadpoolctl>=2.0.0 in c:\\users\\gscosta\\appdata\\local\\programs\\python\\python39\\lib\\site-packages (from scikit-learn) (2.2.0)\n",
      "Requirement already satisfied: scipy>=0.19.1 in c:\\users\\gscosta\\appdata\\local\\programs\\python\\python39\\lib\\site-packages (from scikit-learn) (1.7.0)\n",
      "Requirement already satisfied: plotly in c:\\users\\gscosta\\appdata\\local\\programs\\python\\python39\\lib\\site-packages (5.1.0)\n",
      "Requirement already satisfied: six in c:\\users\\gscosta\\appdata\\local\\programs\\python\\python39\\lib\\site-packages (from plotly) (1.16.0)\n",
      "Requirement already satisfied: tenacity>=6.2.0 in c:\\users\\gscosta\\appdata\\local\\programs\\python\\python39\\lib\\site-packages (from plotly) (8.0.1)\n",
      "Requirement already satisfied: scipy in c:\\users\\gscosta\\appdata\\local\\programs\\python\\python39\\lib\\site-packages (1.7.0)\n",
      "Requirement already satisfied: numpy<1.23.0,>=1.16.5 in c:\\users\\gscosta\\appdata\\local\\programs\\python\\python39\\lib\\site-packages (from scipy) (1.20.3)\n"
     ]
    }
   ],
   "source": [
    "!pip install numpy\n",
    "!pip install pandas\n",
    "!pip install scikit-learn\n",
    "!pip install plotly\n",
    "!pip install scipy"
   ]
  },
  {
   "cell_type": "code",
   "execution_count": 2,
   "id": "e8ae809f",
   "metadata": {},
   "outputs": [],
   "source": [
    "import numpy as np\n",
    "import pandas as pd"
   ]
  },
  {
   "cell_type": "code",
   "execution_count": 3,
   "id": "e74396a4",
   "metadata": {},
   "outputs": [
    {
     "data": {
      "text/html": [
       "<div>\n",
       "<style scoped>\n",
       "    .dataframe tbody tr th:only-of-type {\n",
       "        vertical-align: middle;\n",
       "    }\n",
       "\n",
       "    .dataframe tbody tr th {\n",
       "        vertical-align: top;\n",
       "    }\n",
       "\n",
       "    .dataframe thead th {\n",
       "        text-align: right;\n",
       "    }\n",
       "</style>\n",
       "<table border=\"1\" class=\"dataframe\">\n",
       "  <thead>\n",
       "    <tr style=\"text-align: right;\">\n",
       "      <th></th>\n",
       "      <th>top-left</th>\n",
       "      <th>top-middle</th>\n",
       "      <th>top-right</th>\n",
       "      <th>middle-left</th>\n",
       "      <th>middle-middle</th>\n",
       "      <th>middle-right</th>\n",
       "      <th>bottom-left</th>\n",
       "      <th>bottom-middle</th>\n",
       "      <th>bottom-right</th>\n",
       "      <th>class</th>\n",
       "    </tr>\n",
       "  </thead>\n",
       "  <tbody>\n",
       "    <tr>\n",
       "      <th>0</th>\n",
       "      <td>x</td>\n",
       "      <td>x</td>\n",
       "      <td>x</td>\n",
       "      <td>x</td>\n",
       "      <td>o</td>\n",
       "      <td>o</td>\n",
       "      <td>x</td>\n",
       "      <td>o</td>\n",
       "      <td>o</td>\n",
       "      <td>positive</td>\n",
       "    </tr>\n",
       "    <tr>\n",
       "      <th>1</th>\n",
       "      <td>x</td>\n",
       "      <td>x</td>\n",
       "      <td>x</td>\n",
       "      <td>x</td>\n",
       "      <td>o</td>\n",
       "      <td>o</td>\n",
       "      <td>o</td>\n",
       "      <td>x</td>\n",
       "      <td>o</td>\n",
       "      <td>positive</td>\n",
       "    </tr>\n",
       "    <tr>\n",
       "      <th>2</th>\n",
       "      <td>x</td>\n",
       "      <td>x</td>\n",
       "      <td>x</td>\n",
       "      <td>x</td>\n",
       "      <td>o</td>\n",
       "      <td>o</td>\n",
       "      <td>o</td>\n",
       "      <td>o</td>\n",
       "      <td>x</td>\n",
       "      <td>positive</td>\n",
       "    </tr>\n",
       "    <tr>\n",
       "      <th>3</th>\n",
       "      <td>x</td>\n",
       "      <td>x</td>\n",
       "      <td>x</td>\n",
       "      <td>x</td>\n",
       "      <td>o</td>\n",
       "      <td>o</td>\n",
       "      <td>o</td>\n",
       "      <td>b</td>\n",
       "      <td>b</td>\n",
       "      <td>positive</td>\n",
       "    </tr>\n",
       "    <tr>\n",
       "      <th>4</th>\n",
       "      <td>x</td>\n",
       "      <td>x</td>\n",
       "      <td>x</td>\n",
       "      <td>x</td>\n",
       "      <td>o</td>\n",
       "      <td>o</td>\n",
       "      <td>b</td>\n",
       "      <td>o</td>\n",
       "      <td>b</td>\n",
       "      <td>positive</td>\n",
       "    </tr>\n",
       "  </tbody>\n",
       "</table>\n",
       "</div>"
      ],
      "text/plain": [
       "  top-left top-middle top-right middle-left middle-middle middle-right  \\\n",
       "0        x          x         x           x             o            o   \n",
       "1        x          x         x           x             o            o   \n",
       "2        x          x         x           x             o            o   \n",
       "3        x          x         x           x             o            o   \n",
       "4        x          x         x           x             o            o   \n",
       "\n",
       "  bottom-left bottom-middle bottom-right     class  \n",
       "0           x             o            o  positive  \n",
       "1           o             x            o  positive  \n",
       "2           o             o            x  positive  \n",
       "3           o             b            b  positive  \n",
       "4           b             o            b  positive  "
      ]
     },
     "execution_count": 3,
     "metadata": {},
     "output_type": "execute_result"
    }
   ],
   "source": [
    "columns = [\n",
    "    'top-left',\n",
    "    'top-middle',\n",
    "    'top-right',\n",
    "    'middle-left',\n",
    "    'middle-middle',\n",
    "    'middle-right',\n",
    "    'bottom-left',\n",
    "    'bottom-middle',\n",
    "    'bottom-right',\n",
    "    'class'\n",
    "]\n",
    "df_ttt = pd.read_csv('../dataset/tic-tac-toe.data', names=columns)\n",
    "df_ttt.head()"
   ]
  },
  {
   "cell_type": "code",
   "execution_count": 4,
   "id": "1946cf2e",
   "metadata": {},
   "outputs": [],
   "source": [
    "X = df_ttt.drop(columns=['class'])\n",
    "y = df_ttt['class']"
   ]
  },
  {
   "cell_type": "code",
   "execution_count": 5,
   "id": "24e02de9",
   "metadata": {},
   "outputs": [],
   "source": [
    "def char_to_discrete(value: str) -> int:\n",
    "    if value=='x':\n",
    "        return 1\n",
    "    elif value=='o':\n",
    "        return -1\n",
    "    elif value=='b':\n",
    "        return 0\n",
    "    else:\n",
    "        return None"
   ]
  },
  {
   "cell_type": "code",
   "execution_count": 6,
   "id": "1289ed30",
   "metadata": {},
   "outputs": [],
   "source": [
    "X = X.apply(lambda x : (x.apply(lambda y : char_to_discrete(y))))\n",
    "y = y.apply(lambda x : 1 if x == 'positive' else 0)"
   ]
  },
  {
   "cell_type": "code",
   "execution_count": 7,
   "id": "a582088d",
   "metadata": {},
   "outputs": [],
   "source": [
    "from sklearn.model_selection import train_test_split\n",
    "X_train, X_test, y_train, y_test = train_test_split(X, y, test_size=0.2, random_state=0)"
   ]
  },
  {
   "cell_type": "code",
   "execution_count": 8,
   "id": "6848d84d",
   "metadata": {},
   "outputs": [
    {
     "name": "stdout",
     "output_type": "stream",
     "text": [
      "(766, 9) (192, 9)\n",
      "(766,) (192,)\n"
     ]
    }
   ],
   "source": [
    "print(X_train.shape, X_test.shape)\n",
    "print(y_train.shape, y_test.shape)"
   ]
  },
  {
   "cell_type": "code",
   "execution_count": 9,
   "id": "baeac205",
   "metadata": {},
   "outputs": [],
   "source": [
    "X_train, X_test = np.array(X_train), np.array(X_test)\n",
    "y_train, y_test = np.array(y_train), np.array(y_test)"
   ]
  },
  {
   "cell_type": "markdown",
   "id": "0762de94",
   "metadata": {},
   "source": [
    "## Importando o Algoritmo Genético criado\n",
    "Foi criada uma classe GeneticAlgorithm, que herda a classe BaseEstimator, do Scikit learn, permitindo-nos usar Orientação a Objetos para utilizar algumas features de otimização de hiperparâmetros e k-fold cross-validation do ScikitLearn"
   ]
  },
  {
   "cell_type": "code",
   "execution_count": 10,
   "id": "d3d67b7a",
   "metadata": {},
   "outputs": [],
   "source": [
    "import sys\n",
    "sys.path.append('../')"
   ]
  },
  {
   "cell_type": "code",
   "execution_count": 11,
   "id": "a986a528",
   "metadata": {},
   "outputs": [],
   "source": [
    "from GeneticAlgorithm import GeneticAlgorithm"
   ]
  },
  {
   "cell_type": "code",
   "execution_count": 12,
   "id": "c902960e",
   "metadata": {},
   "outputs": [],
   "source": [
    "model = GeneticAlgorithm(verbose=False, n_iter=1000, pop_size=500, bounds=(-25,25))"
   ]
  },
  {
   "cell_type": "code",
   "execution_count": 13,
   "id": "61dab77e",
   "metadata": {},
   "outputs": [
    {
     "data": {
      "text/plain": [
       "0.84375"
      ]
     },
     "execution_count": 13,
     "metadata": {},
     "output_type": "execute_result"
    }
   ],
   "source": [
    "model.fit(X_train, y_train)\n",
    "model.score(X_test, y_test)"
   ]
  },
  {
   "cell_type": "code",
   "execution_count": 14,
   "id": "155ce319",
   "metadata": {},
   "outputs": [],
   "source": [
    "from sklearn.model_selection import GridSearchCV"
   ]
  },
  {
   "cell_type": "code",
   "execution_count": 15,
   "id": "9b4f1256",
   "metadata": {},
   "outputs": [],
   "source": [
    "model = GeneticAlgorithm(verbose=False, n_iter=1000, pop_size=500, bounds=(-25,25))"
   ]
  },
  {
   "cell_type": "code",
   "execution_count": 16,
   "id": "656d64c2",
   "metadata": {},
   "outputs": [],
   "source": [
    "param_grid={\n",
    "    'p_crossover'  : [0.5,0.75,0.9],\n",
    "    'p_mutation'   : [0.15,0.5,0.75],\n",
    "    'mutate_bound' : [0.01, 0.05, 0.1],\n",
    "}"
   ]
  },
  {
   "cell_type": "code",
   "execution_count": null,
   "id": "53eaa502",
   "metadata": {},
   "outputs": [
    {
     "name": "stdout",
     "output_type": "stream",
     "text": [
      "Fitting 5 folds for each of 27 candidates, totalling 135 fits\n",
      "[CV 1/5] END mutate_bound=0.01, p_crossover=0.5, p_mutation=0.15; accuracy: (test=0.883) f1_macro: (test=0.855) precision: (test=0.850) recall: (test=1.000) total time= 1.7min\n",
      "[CV 2/5] END mutate_bound=0.01, p_crossover=0.5, p_mutation=0.15; accuracy: (test=0.908) f1_macro: (test=0.888) precision: (test=0.879) recall: (test=1.000) total time= 1.7min\n",
      "[CV 3/5] END mutate_bound=0.01, p_crossover=0.5, p_mutation=0.15; accuracy: (test=0.882) f1_macro: (test=0.852) precision: (test=0.850) recall: (test=1.000) total time= 1.7min\n",
      "[CV 4/5] END mutate_bound=0.01, p_crossover=0.5, p_mutation=0.15; accuracy: (test=0.876) f1_macro: (test=0.845) precision: (test=0.842) recall: (test=1.000) total time= 1.7min\n",
      "[CV 5/5] END mutate_bound=0.01, p_crossover=0.5, p_mutation=0.15; accuracy: (test=0.895) f1_macro: (test=0.872) precision: (test=0.863) recall: (test=1.000) total time= 1.7min\n",
      "[CV 1/5] END mutate_bound=0.01, p_crossover=0.5, p_mutation=0.5; accuracy: (test=0.825) f1_macro: (test=0.766) precision: (test=0.791) recall: (test=1.000) total time= 1.7min\n",
      "[CV 2/5] END mutate_bound=0.01, p_crossover=0.5, p_mutation=0.5; accuracy: (test=0.908) f1_macro: (test=0.888) precision: (test=0.879) recall: (test=1.000) total time= 1.7min\n",
      "[CV 3/5] END mutate_bound=0.01, p_crossover=0.5, p_mutation=0.5; accuracy: (test=0.863) f1_macro: (test=0.824) precision: (test=0.829) recall: (test=1.000) total time= 1.7min\n",
      "[CV 4/5] END mutate_bound=0.01, p_crossover=0.5, p_mutation=0.5; accuracy: (test=0.876) f1_macro: (test=0.845) precision: (test=0.842) recall: (test=1.000) total time= 1.7min\n",
      "[CV 5/5] END mutate_bound=0.01, p_crossover=0.5, p_mutation=0.5; accuracy: (test=0.889) f1_macro: (test=0.863) precision: (test=0.856) recall: (test=1.000) total time= 1.7min\n",
      "[CV 1/5] END mutate_bound=0.01, p_crossover=0.5, p_mutation=0.75; accuracy: (test=0.890) f1_macro: (test=0.864) precision: (test=0.857) recall: (test=1.000) total time= 1.7min\n",
      "[CV 2/5] END mutate_bound=0.01, p_crossover=0.5, p_mutation=0.75; accuracy: (test=0.935) f1_macro: (test=0.922) precision: (test=0.911) recall: (test=1.000) total time= 1.7min\n",
      "[CV 3/5] END mutate_bound=0.01, p_crossover=0.5, p_mutation=0.75; accuracy: (test=0.876) f1_macro: (test=0.843) precision: (test=0.843) recall: (test=1.000) total time= 1.7min\n",
      "[CV 4/5] END mutate_bound=0.01, p_crossover=0.5, p_mutation=0.75; accuracy: (test=0.882) f1_macro: (test=0.854) precision: (test=0.849) recall: (test=1.000) total time= 1.7min\n",
      "[CV 5/5] END mutate_bound=0.01, p_crossover=0.5, p_mutation=0.75; accuracy: (test=0.895) f1_macro: (test=0.872) precision: (test=0.863) recall: (test=1.000) total time= 1.7min\n",
      "[CV 1/5] END mutate_bound=0.01, p_crossover=0.75, p_mutation=0.15; accuracy: (test=0.838) f1_macro: (test=0.787) precision: (test=0.803) recall: (test=1.000) total time= 1.7min\n",
      "[CV 2/5] END mutate_bound=0.01, p_crossover=0.75, p_mutation=0.15; accuracy: (test=0.889) f1_macro: (test=0.862) precision: (test=0.857) recall: (test=1.000) total time= 1.7min\n",
      "[CV 3/5] END mutate_bound=0.01, p_crossover=0.75, p_mutation=0.15; accuracy: (test=0.876) f1_macro: (test=0.843) precision: (test=0.843) recall: (test=1.000) total time= 1.7min\n",
      "[CV 4/5] END mutate_bound=0.01, p_crossover=0.75, p_mutation=0.15; accuracy: (test=0.889) f1_macro: (test=0.863) precision: (test=0.856) recall: (test=1.000) total time= 1.7min\n",
      "[CV 5/5] END mutate_bound=0.01, p_crossover=0.75, p_mutation=0.15; accuracy: (test=0.902) f1_macro: (test=0.881) precision: (test=0.871) recall: (test=1.000) total time= 1.7min\n",
      "[CV 1/5] END mutate_bound=0.01, p_crossover=0.75, p_mutation=0.5; accuracy: (test=0.831) f1_macro: (test=0.777) precision: (test=0.797) recall: (test=1.000) total time= 1.7min\n",
      "[CV 2/5] END mutate_bound=0.01, p_crossover=0.75, p_mutation=0.5; accuracy: (test=0.889) f1_macro: (test=0.862) precision: (test=0.857) recall: (test=1.000) total time= 1.7min\n",
      "[CV 3/5] END mutate_bound=0.01, p_crossover=0.75, p_mutation=0.5; accuracy: (test=0.882) f1_macro: (test=0.852) precision: (test=0.850) recall: (test=1.000) total time= 1.7min\n",
      "[CV 4/5] END mutate_bound=0.01, p_crossover=0.75, p_mutation=0.5; accuracy: (test=0.902) f1_macro: (test=0.881) precision: (test=0.871) recall: (test=1.000) total time= 1.7min\n",
      "[CV 5/5] END mutate_bound=0.01, p_crossover=0.75, p_mutation=0.5; accuracy: (test=0.908) f1_macro: (test=0.890) precision: (test=0.878) recall: (test=1.000) total time= 1.6min\n",
      "[CV 1/5] END mutate_bound=0.01, p_crossover=0.75, p_mutation=0.75; accuracy: (test=0.825) f1_macro: (test=0.766) precision: (test=0.791) recall: (test=1.000) total time= 1.6min\n",
      "[CV 2/5] END mutate_bound=0.01, p_crossover=0.75, p_mutation=0.75; accuracy: (test=0.902) f1_macro: (test=0.880) precision: (test=0.872) recall: (test=1.000) total time=112.4min\n",
      "[CV 3/5] END mutate_bound=0.01, p_crossover=0.75, p_mutation=0.75; accuracy: (test=0.882) f1_macro: (test=0.852) precision: (test=0.850) recall: (test=1.000) total time= 1.6min\n",
      "[CV 4/5] END mutate_bound=0.01, p_crossover=0.75, p_mutation=0.75; accuracy: (test=0.863) f1_macro: (test=0.826) precision: (test=0.828) recall: (test=1.000) total time= 1.6min\n",
      "[CV 5/5] END mutate_bound=0.01, p_crossover=0.75, p_mutation=0.75; accuracy: (test=0.882) f1_macro: (test=0.854) precision: (test=0.849) recall: (test=1.000) total time= 1.6min\n",
      "[CV 1/5] END mutate_bound=0.01, p_crossover=0.9, p_mutation=0.15; accuracy: (test=0.838) f1_macro: (test=0.787) precision: (test=0.803) recall: (test=1.000) total time= 1.6min\n",
      "[CV 2/5] END mutate_bound=0.01, p_crossover=0.9, p_mutation=0.15; accuracy: (test=0.908) f1_macro: (test=0.888) precision: (test=0.879) recall: (test=1.000) total time= 1.6min\n",
      "[CV 3/5] END mutate_bound=0.01, p_crossover=0.9, p_mutation=0.15; accuracy: (test=0.882) f1_macro: (test=0.852) precision: (test=0.850) recall: (test=1.000) total time= 1.7min\n",
      "[CV 4/5] END mutate_bound=0.01, p_crossover=0.9, p_mutation=0.15; accuracy: (test=0.889) f1_macro: (test=0.863) precision: (test=0.856) recall: (test=1.000) total time= 1.7min\n",
      "[CV 5/5] END mutate_bound=0.01, p_crossover=0.9, p_mutation=0.15; accuracy: (test=0.882) f1_macro: (test=0.854) precision: (test=0.849) recall: (test=1.000) total time= 1.7min\n",
      "[CV 1/5] END mutate_bound=0.01, p_crossover=0.9, p_mutation=0.5; accuracy: (test=0.883) f1_macro: (test=0.855) precision: (test=0.850) recall: (test=1.000) total time= 1.7min\n",
      "[CV 2/5] END mutate_bound=0.01, p_crossover=0.9, p_mutation=0.5; accuracy: (test=0.915) f1_macro: (test=0.897) precision: (test=0.887) recall: (test=1.000) total time= 1.7min\n",
      "[CV 3/5] END mutate_bound=0.01, p_crossover=0.9, p_mutation=0.5; accuracy: (test=0.876) f1_macro: (test=0.843) precision: (test=0.843) recall: (test=1.000) total time= 1.7min\n",
      "[CV 4/5] END mutate_bound=0.01, p_crossover=0.9, p_mutation=0.5; accuracy: (test=0.876) f1_macro: (test=0.845) precision: (test=0.842) recall: (test=1.000) total time= 1.7min\n",
      "[CV 5/5] END mutate_bound=0.01, p_crossover=0.9, p_mutation=0.5; accuracy: (test=0.895) f1_macro: (test=0.872) precision: (test=0.863) recall: (test=1.000) total time= 1.7min\n",
      "[CV 1/5] END mutate_bound=0.01, p_crossover=0.9, p_mutation=0.75; accuracy: (test=0.831) f1_macro: (test=0.777) precision: (test=0.797) recall: (test=1.000) total time= 1.7min\n",
      "[CV 2/5] END mutate_bound=0.01, p_crossover=0.9, p_mutation=0.75; accuracy: (test=0.908) f1_macro: (test=0.888) precision: (test=0.879) recall: (test=1.000) total time= 1.7min\n",
      "[CV 3/5] END mutate_bound=0.01, p_crossover=0.9, p_mutation=0.75; accuracy: (test=0.869) f1_macro: (test=0.833) precision: (test=0.836) recall: (test=1.000) total time= 1.7min\n",
      "[CV 4/5] END mutate_bound=0.01, p_crossover=0.9, p_mutation=0.75; accuracy: (test=0.882) f1_macro: (test=0.854) precision: (test=0.849) recall: (test=1.000) total time= 1.7min\n",
      "[CV 5/5] END mutate_bound=0.01, p_crossover=0.9, p_mutation=0.75; accuracy: (test=0.895) f1_macro: (test=0.872) precision: (test=0.863) recall: (test=1.000) total time= 1.7min\n",
      "[CV 1/5] END mutate_bound=0.05, p_crossover=0.5, p_mutation=0.15; accuracy: (test=0.831) f1_macro: (test=0.777) precision: (test=0.797) recall: (test=1.000) total time= 1.7min\n",
      "[CV 2/5] END mutate_bound=0.05, p_crossover=0.5, p_mutation=0.15; accuracy: (test=0.895) f1_macro: (test=0.871) precision: (test=0.864) recall: (test=1.000) total time= 1.7min\n"
     ]
    },
    {
     "name": "stdout",
     "output_type": "stream",
     "text": [
      "[CV 3/5] END mutate_bound=0.05, p_crossover=0.5, p_mutation=0.15; accuracy: (test=0.882) f1_macro: (test=0.852) precision: (test=0.850) recall: (test=1.000) total time= 1.7min\n",
      "[CV 4/5] END mutate_bound=0.05, p_crossover=0.5, p_mutation=0.15; accuracy: (test=0.889) f1_macro: (test=0.863) precision: (test=0.856) recall: (test=1.000) total time= 1.7min\n",
      "[CV 5/5] END mutate_bound=0.05, p_crossover=0.5, p_mutation=0.15; accuracy: (test=0.908) f1_macro: (test=0.890) precision: (test=0.878) recall: (test=1.000) total time= 1.7min\n",
      "[CV 1/5] END mutate_bound=0.05, p_crossover=0.5, p_mutation=0.5; accuracy: (test=0.890) f1_macro: (test=0.864) precision: (test=0.857) recall: (test=1.000) total time= 1.7min\n",
      "[CV 2/5] END mutate_bound=0.05, p_crossover=0.5, p_mutation=0.5; accuracy: (test=0.882) f1_macro: (test=0.852) precision: (test=0.850) recall: (test=1.000) total time= 1.6min\n",
      "[CV 3/5] END mutate_bound=0.05, p_crossover=0.5, p_mutation=0.5; accuracy: (test=0.882) f1_macro: (test=0.852) precision: (test=0.850) recall: (test=1.000) total time= 1.6min\n",
      "[CV 4/5] END mutate_bound=0.05, p_crossover=0.5, p_mutation=0.5; accuracy: (test=0.882) f1_macro: (test=0.854) precision: (test=0.849) recall: (test=1.000) total time= 1.6min\n",
      "[CV 5/5] END mutate_bound=0.05, p_crossover=0.5, p_mutation=0.5; accuracy: (test=0.895) f1_macro: (test=0.872) precision: (test=0.863) recall: (test=1.000) total time= 1.6min\n",
      "[CV 1/5] END mutate_bound=0.05, p_crossover=0.5, p_mutation=0.75; accuracy: (test=0.831) f1_macro: (test=0.777) precision: (test=0.797) recall: (test=1.000) total time= 1.6min\n",
      "[CV 2/5] END mutate_bound=0.05, p_crossover=0.5, p_mutation=0.75; accuracy: (test=0.908) f1_macro: (test=0.888) precision: (test=0.879) recall: (test=1.000) total time= 1.6min\n",
      "[CV 3/5] END mutate_bound=0.05, p_crossover=0.5, p_mutation=0.75; accuracy: (test=0.869) f1_macro: (test=0.833) precision: (test=0.836) recall: (test=1.000) total time= 1.6min\n",
      "[CV 4/5] END mutate_bound=0.05, p_crossover=0.5, p_mutation=0.75; accuracy: (test=0.895) f1_macro: (test=0.872) precision: (test=0.863) recall: (test=1.000) total time= 1.7min\n",
      "[CV 5/5] END mutate_bound=0.05, p_crossover=0.5, p_mutation=0.75; accuracy: (test=0.902) f1_macro: (test=0.881) precision: (test=0.871) recall: (test=1.000) total time= 1.6min\n",
      "[CV 1/5] END mutate_bound=0.05, p_crossover=0.75, p_mutation=0.15; accuracy: (test=0.838) f1_macro: (test=0.787) precision: (test=0.803) recall: (test=1.000) total time= 1.6min\n",
      "[CV 2/5] END mutate_bound=0.05, p_crossover=0.75, p_mutation=0.15; accuracy: (test=0.928) f1_macro: (test=0.914) precision: (test=0.903) recall: (test=1.000) total time= 1.6min\n",
      "[CV 3/5] END mutate_bound=0.05, p_crossover=0.75, p_mutation=0.15; accuracy: (test=0.863) f1_macro: (test=0.824) precision: (test=0.829) recall: (test=1.000) total time= 1.7min\n",
      "[CV 4/5] END mutate_bound=0.05, p_crossover=0.75, p_mutation=0.15; accuracy: (test=0.869) f1_macro: (test=0.836) precision: (test=0.835) recall: (test=1.000) total time= 1.7min\n",
      "[CV 5/5] END mutate_bound=0.05, p_crossover=0.75, p_mutation=0.15; accuracy: (test=0.895) f1_macro: (test=0.872) precision: (test=0.863) recall: (test=1.000) total time= 1.6min\n",
      "[CV 1/5] END mutate_bound=0.05, p_crossover=0.75, p_mutation=0.5; accuracy: (test=0.838) f1_macro: (test=0.787) precision: (test=0.803) recall: (test=1.000) total time= 1.6min\n",
      "[CV 2/5] END mutate_bound=0.05, p_crossover=0.75, p_mutation=0.5; accuracy: (test=0.902) f1_macro: (test=0.880) precision: (test=0.872) recall: (test=1.000) total time= 1.7min\n",
      "[CV 3/5] END mutate_bound=0.05, p_crossover=0.75, p_mutation=0.5; accuracy: (test=0.876) f1_macro: (test=0.843) precision: (test=0.843) recall: (test=1.000) total time= 1.7min\n",
      "[CV 4/5] END mutate_bound=0.05, p_crossover=0.75, p_mutation=0.5; accuracy: (test=0.889) f1_macro: (test=0.863) precision: (test=0.856) recall: (test=1.000) total time= 1.8min\n",
      "[CV 5/5] END mutate_bound=0.05, p_crossover=0.75, p_mutation=0.5; accuracy: (test=0.895) f1_macro: (test=0.872) precision: (test=0.863) recall: (test=1.000) total time= 1.7min\n",
      "[CV 1/5] END mutate_bound=0.05, p_crossover=0.75, p_mutation=0.75; accuracy: (test=0.903) f1_macro: (test=0.881) precision: (test=0.872) recall: (test=1.000) total time= 1.7min\n",
      "[CV 2/5] END mutate_bound=0.05, p_crossover=0.75, p_mutation=0.75; accuracy: (test=0.908) f1_macro: (test=0.888) precision: (test=0.879) recall: (test=1.000) total time= 1.7min\n",
      "[CV 3/5] END mutate_bound=0.05, p_crossover=0.75, p_mutation=0.75; accuracy: (test=0.876) f1_macro: (test=0.843) precision: (test=0.843) recall: (test=1.000) total time= 1.7min\n",
      "[CV 4/5] END mutate_bound=0.05, p_crossover=0.75, p_mutation=0.75; accuracy: (test=0.882) f1_macro: (test=0.854) precision: (test=0.849) recall: (test=1.000) total time= 1.7min\n",
      "[CV 5/5] END mutate_bound=0.05, p_crossover=0.75, p_mutation=0.75; accuracy: (test=0.922) f1_macro: (test=0.907) precision: (test=0.894) recall: (test=1.000) total time= 1.7min\n",
      "[CV 1/5] END mutate_bound=0.05, p_crossover=0.9, p_mutation=0.15; accuracy: (test=0.883) f1_macro: (test=0.855) precision: (test=0.850) recall: (test=1.000) total time= 1.7min\n",
      "[CV 2/5] END mutate_bound=0.05, p_crossover=0.9, p_mutation=0.15; accuracy: (test=0.882) f1_macro: (test=0.852) precision: (test=0.850) recall: (test=1.000) total time= 1.7min\n",
      "[CV 3/5] END mutate_bound=0.05, p_crossover=0.9, p_mutation=0.15; accuracy: (test=0.876) f1_macro: (test=0.843) precision: (test=0.843) recall: (test=1.000) total time= 1.7min\n",
      "[CV 4/5] END mutate_bound=0.05, p_crossover=0.9, p_mutation=0.15; accuracy: (test=0.869) f1_macro: (test=0.836) precision: (test=0.835) recall: (test=1.000) total time= 1.7min\n",
      "[CV 5/5] END mutate_bound=0.05, p_crossover=0.9, p_mutation=0.15; accuracy: (test=0.895) f1_macro: (test=0.872) precision: (test=0.863) recall: (test=1.000) total time= 1.6min\n",
      "[CV 1/5] END mutate_bound=0.05, p_crossover=0.9, p_mutation=0.5; accuracy: (test=0.890) f1_macro: (test=0.864) precision: (test=0.857) recall: (test=1.000) total time= 1.6min\n",
      "[CV 2/5] END mutate_bound=0.05, p_crossover=0.9, p_mutation=0.5; accuracy: (test=0.922) f1_macro: (test=0.906) precision: (test=0.895) recall: (test=1.000) total time= 1.6min\n",
      "[CV 3/5] END mutate_bound=0.05, p_crossover=0.9, p_mutation=0.5; accuracy: (test=0.869) f1_macro: (test=0.833) precision: (test=0.836) recall: (test=1.000) total time= 1.6min\n"
     ]
    }
   ],
   "source": [
    "search = GridSearchCV(model, param_grid, cv=5, verbose=3, scoring=['accuracy', 'f1_macro', 'precision', 'recall'], refit='accuracy')\n",
    "search.fit(X_train, y_train)"
   ]
  },
  {
   "cell_type": "code",
   "execution_count": null,
   "id": "c89dd599",
   "metadata": {},
   "outputs": [],
   "source": []
  }
 ],
 "metadata": {
  "kernelspec": {
   "display_name": "Python 3",
   "language": "python",
   "name": "python3"
  },
  "language_info": {
   "codemirror_mode": {
    "name": "ipython",
    "version": 3
   },
   "file_extension": ".py",
   "mimetype": "text/x-python",
   "name": "python",
   "nbconvert_exporter": "python",
   "pygments_lexer": "ipython3",
   "version": "3.9.5"
  }
 },
 "nbformat": 4,
 "nbformat_minor": 5
}
