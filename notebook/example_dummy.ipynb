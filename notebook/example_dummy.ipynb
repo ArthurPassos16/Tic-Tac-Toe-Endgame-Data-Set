{
 "cells": [
  {
   "cell_type": "markdown",
   "id": "186c3981",
   "metadata": {},
   "source": [
    "# Tic-Tac-Toe Endgame\n",
    "Para resolver o problema do tic-tac-toe endgame, usaremos como dataset 958 exemplos de formações finais de jogos, onde para as features existem três valores possíveis {x,o,b}, sendo _x_ representando um x no campo, _o_ representando um círculo e _b_ representando um campo vazio.\n",
    "Por exemplo, se tivermos _X=[x,x,x,x,o,o,x,o,o]_, então teremos um campo da seguinte forma:\n",
    "<br>xxx<br>\n",
    "xoo<br>\n",
    "xoo<br>\n",
    "Nesse caso, o _x_ venceu e por iso, a sua classe é _positive_. Caso contrário, a sua classe é _negative_\n",
    "\n",
    "## Importando e formatando o dataset\n",
    "Para trabalharmos com o dataset, consideraremos que _[x,o,b]=[1,-1,0]_, e que _[positive,negative]=[1,-1]_"
   ]
  },
  {
   "cell_type": "code",
   "execution_count": 1,
   "id": "d789d394",
   "metadata": {},
   "outputs": [
    {
     "name": "stdout",
     "output_type": "stream",
     "text": [
      "Requirement already satisfied: numpy in c:\\users\\gscosta\\appdata\\local\\programs\\python\\python39\\lib\\site-packages (1.20.3)\n",
      "Requirement already satisfied: pandas in c:\\users\\gscosta\\appdata\\local\\programs\\python\\python39\\lib\\site-packages (1.2.4)\n",
      "Requirement already satisfied: python-dateutil>=2.7.3 in c:\\users\\gscosta\\appdata\\local\\programs\\python\\python39\\lib\\site-packages (from pandas) (2.8.1)\n",
      "Requirement already satisfied: numpy>=1.16.5 in c:\\users\\gscosta\\appdata\\local\\programs\\python\\python39\\lib\\site-packages (from pandas) (1.20.3)\n",
      "Requirement already satisfied: pytz>=2017.3 in c:\\users\\gscosta\\appdata\\local\\programs\\python\\python39\\lib\\site-packages (from pandas) (2021.1)\n",
      "Requirement already satisfied: six>=1.5 in c:\\users\\gscosta\\appdata\\local\\programs\\python\\python39\\lib\\site-packages (from python-dateutil>=2.7.3->pandas) (1.16.0)\n",
      "Requirement already satisfied: scikit-learn in c:\\users\\gscosta\\appdata\\local\\programs\\python\\python39\\lib\\site-packages (0.24.2)\n",
      "Requirement already satisfied: numpy>=1.13.3 in c:\\users\\gscosta\\appdata\\local\\programs\\python\\python39\\lib\\site-packages (from scikit-learn) (1.20.3)\n",
      "Requirement already satisfied: threadpoolctl>=2.0.0 in c:\\users\\gscosta\\appdata\\local\\programs\\python\\python39\\lib\\site-packages (from scikit-learn) (2.2.0)\n",
      "Requirement already satisfied: scipy>=0.19.1 in c:\\users\\gscosta\\appdata\\local\\programs\\python\\python39\\lib\\site-packages (from scikit-learn) (1.7.0)\n",
      "Requirement already satisfied: joblib>=0.11 in c:\\users\\gscosta\\appdata\\local\\programs\\python\\python39\\lib\\site-packages (from scikit-learn) (1.0.1)\n",
      "Requirement already satisfied: plotly in c:\\users\\gscosta\\appdata\\local\\programs\\python\\python39\\lib\\site-packages (5.1.0)\n",
      "Requirement already satisfied: six in c:\\users\\gscosta\\appdata\\local\\programs\\python\\python39\\lib\\site-packages (from plotly) (1.16.0)\n",
      "Requirement already satisfied: tenacity>=6.2.0 in c:\\users\\gscosta\\appdata\\local\\programs\\python\\python39\\lib\\site-packages (from plotly) (8.0.1)\n",
      "Requirement already satisfied: scipy in c:\\users\\gscosta\\appdata\\local\\programs\\python\\python39\\lib\\site-packages (1.7.0)\n",
      "Requirement already satisfied: numpy<1.23.0,>=1.16.5 in c:\\users\\gscosta\\appdata\\local\\programs\\python\\python39\\lib\\site-packages (from scipy) (1.20.3)\n"
     ]
    }
   ],
   "source": [
    "!pip install numpy\n",
    "!pip install pandas\n",
    "!pip install scikit-learn\n",
    "!pip install plotly\n",
    "!pip install scipy"
   ]
  },
  {
   "cell_type": "code",
   "execution_count": 2,
   "id": "f0dbcf3e",
   "metadata": {},
   "outputs": [],
   "source": [
    "import numpy as np\n",
    "import pandas as pd"
   ]
  },
  {
   "cell_type": "code",
   "execution_count": 3,
   "id": "1d758d71",
   "metadata": {},
   "outputs": [
    {
     "data": {
      "text/html": [
       "<div>\n",
       "<style scoped>\n",
       "    .dataframe tbody tr th:only-of-type {\n",
       "        vertical-align: middle;\n",
       "    }\n",
       "\n",
       "    .dataframe tbody tr th {\n",
       "        vertical-align: top;\n",
       "    }\n",
       "\n",
       "    .dataframe thead th {\n",
       "        text-align: right;\n",
       "    }\n",
       "</style>\n",
       "<table border=\"1\" class=\"dataframe\">\n",
       "  <thead>\n",
       "    <tr style=\"text-align: right;\">\n",
       "      <th></th>\n",
       "      <th>top-left</th>\n",
       "      <th>top-middle</th>\n",
       "      <th>top-right</th>\n",
       "      <th>middle-left</th>\n",
       "      <th>middle-middle</th>\n",
       "      <th>middle-right</th>\n",
       "      <th>bottom-left</th>\n",
       "      <th>bottom-middle</th>\n",
       "      <th>bottom-right</th>\n",
       "      <th>class</th>\n",
       "    </tr>\n",
       "  </thead>\n",
       "  <tbody>\n",
       "    <tr>\n",
       "      <th>0</th>\n",
       "      <td>x</td>\n",
       "      <td>x</td>\n",
       "      <td>x</td>\n",
       "      <td>x</td>\n",
       "      <td>o</td>\n",
       "      <td>o</td>\n",
       "      <td>x</td>\n",
       "      <td>o</td>\n",
       "      <td>o</td>\n",
       "      <td>positive</td>\n",
       "    </tr>\n",
       "    <tr>\n",
       "      <th>1</th>\n",
       "      <td>x</td>\n",
       "      <td>x</td>\n",
       "      <td>x</td>\n",
       "      <td>x</td>\n",
       "      <td>o</td>\n",
       "      <td>o</td>\n",
       "      <td>o</td>\n",
       "      <td>x</td>\n",
       "      <td>o</td>\n",
       "      <td>positive</td>\n",
       "    </tr>\n",
       "    <tr>\n",
       "      <th>2</th>\n",
       "      <td>x</td>\n",
       "      <td>x</td>\n",
       "      <td>x</td>\n",
       "      <td>x</td>\n",
       "      <td>o</td>\n",
       "      <td>o</td>\n",
       "      <td>o</td>\n",
       "      <td>o</td>\n",
       "      <td>x</td>\n",
       "      <td>positive</td>\n",
       "    </tr>\n",
       "    <tr>\n",
       "      <th>3</th>\n",
       "      <td>x</td>\n",
       "      <td>x</td>\n",
       "      <td>x</td>\n",
       "      <td>x</td>\n",
       "      <td>o</td>\n",
       "      <td>o</td>\n",
       "      <td>o</td>\n",
       "      <td>b</td>\n",
       "      <td>b</td>\n",
       "      <td>positive</td>\n",
       "    </tr>\n",
       "    <tr>\n",
       "      <th>4</th>\n",
       "      <td>x</td>\n",
       "      <td>x</td>\n",
       "      <td>x</td>\n",
       "      <td>x</td>\n",
       "      <td>o</td>\n",
       "      <td>o</td>\n",
       "      <td>b</td>\n",
       "      <td>o</td>\n",
       "      <td>b</td>\n",
       "      <td>positive</td>\n",
       "    </tr>\n",
       "  </tbody>\n",
       "</table>\n",
       "</div>"
      ],
      "text/plain": [
       "  top-left top-middle top-right middle-left middle-middle middle-right  \\\n",
       "0        x          x         x           x             o            o   \n",
       "1        x          x         x           x             o            o   \n",
       "2        x          x         x           x             o            o   \n",
       "3        x          x         x           x             o            o   \n",
       "4        x          x         x           x             o            o   \n",
       "\n",
       "  bottom-left bottom-middle bottom-right     class  \n",
       "0           x             o            o  positive  \n",
       "1           o             x            o  positive  \n",
       "2           o             o            x  positive  \n",
       "3           o             b            b  positive  \n",
       "4           b             o            b  positive  "
      ]
     },
     "execution_count": 3,
     "metadata": {},
     "output_type": "execute_result"
    }
   ],
   "source": [
    "columns = [\n",
    "    'top-left',\n",
    "    'top-middle',\n",
    "    'top-right',\n",
    "    'middle-left',\n",
    "    'middle-middle',\n",
    "    'middle-right',\n",
    "    'bottom-left',\n",
    "    'bottom-middle',\n",
    "    'bottom-right',\n",
    "    'class'\n",
    "]\n",
    "df_ttt = pd.read_csv('../dataset/tic-tac-toe.data', names=columns)\n",
    "df_ttt.head()"
   ]
  },
  {
   "cell_type": "code",
   "execution_count": 4,
   "id": "7a333141",
   "metadata": {},
   "outputs": [],
   "source": [
    "X = df_ttt.drop(columns=['class'])\n",
    "y = df_ttt['class']"
   ]
  },
  {
   "cell_type": "code",
   "execution_count": 5,
   "id": "8530c2f5",
   "metadata": {},
   "outputs": [],
   "source": [
    "def char_to_discrete(value: str) -> int:\n",
    "    if value=='x':\n",
    "        return 1\n",
    "    elif value=='o':\n",
    "        return -1\n",
    "    elif value=='b':\n",
    "        return 0\n",
    "    else:\n",
    "        return None"
   ]
  },
  {
   "cell_type": "code",
   "execution_count": 6,
   "id": "e30e5fb1",
   "metadata": {},
   "outputs": [],
   "source": [
    "X = X.apply(lambda x : (x.apply(lambda y : char_to_discrete(y))))\n",
    "y = y.apply(lambda x : 1 if x == 'positive' else 0)"
   ]
  },
  {
   "cell_type": "code",
   "execution_count": 7,
   "id": "4fbcdd73",
   "metadata": {},
   "outputs": [
    {
     "data": {
      "text/html": [
       "<div>\n",
       "<style scoped>\n",
       "    .dataframe tbody tr th:only-of-type {\n",
       "        vertical-align: middle;\n",
       "    }\n",
       "\n",
       "    .dataframe tbody tr th {\n",
       "        vertical-align: top;\n",
       "    }\n",
       "\n",
       "    .dataframe thead th {\n",
       "        text-align: right;\n",
       "    }\n",
       "</style>\n",
       "<table border=\"1\" class=\"dataframe\">\n",
       "  <thead>\n",
       "    <tr style=\"text-align: right;\">\n",
       "      <th></th>\n",
       "      <th>top-left</th>\n",
       "      <th>top-middle</th>\n",
       "      <th>top-right</th>\n",
       "      <th>middle-left</th>\n",
       "      <th>middle-middle</th>\n",
       "      <th>middle-right</th>\n",
       "      <th>bottom-left</th>\n",
       "      <th>bottom-middle</th>\n",
       "      <th>bottom-right</th>\n",
       "    </tr>\n",
       "  </thead>\n",
       "  <tbody>\n",
       "    <tr>\n",
       "      <th>0</th>\n",
       "      <td>1</td>\n",
       "      <td>1</td>\n",
       "      <td>1</td>\n",
       "      <td>1</td>\n",
       "      <td>-1</td>\n",
       "      <td>-1</td>\n",
       "      <td>1</td>\n",
       "      <td>-1</td>\n",
       "      <td>-1</td>\n",
       "    </tr>\n",
       "    <tr>\n",
       "      <th>1</th>\n",
       "      <td>1</td>\n",
       "      <td>1</td>\n",
       "      <td>1</td>\n",
       "      <td>1</td>\n",
       "      <td>-1</td>\n",
       "      <td>-1</td>\n",
       "      <td>-1</td>\n",
       "      <td>1</td>\n",
       "      <td>-1</td>\n",
       "    </tr>\n",
       "    <tr>\n",
       "      <th>2</th>\n",
       "      <td>1</td>\n",
       "      <td>1</td>\n",
       "      <td>1</td>\n",
       "      <td>1</td>\n",
       "      <td>-1</td>\n",
       "      <td>-1</td>\n",
       "      <td>-1</td>\n",
       "      <td>-1</td>\n",
       "      <td>1</td>\n",
       "    </tr>\n",
       "    <tr>\n",
       "      <th>3</th>\n",
       "      <td>1</td>\n",
       "      <td>1</td>\n",
       "      <td>1</td>\n",
       "      <td>1</td>\n",
       "      <td>-1</td>\n",
       "      <td>-1</td>\n",
       "      <td>-1</td>\n",
       "      <td>0</td>\n",
       "      <td>0</td>\n",
       "    </tr>\n",
       "    <tr>\n",
       "      <th>4</th>\n",
       "      <td>1</td>\n",
       "      <td>1</td>\n",
       "      <td>1</td>\n",
       "      <td>1</td>\n",
       "      <td>-1</td>\n",
       "      <td>-1</td>\n",
       "      <td>0</td>\n",
       "      <td>-1</td>\n",
       "      <td>0</td>\n",
       "    </tr>\n",
       "    <tr>\n",
       "      <th>...</th>\n",
       "      <td>...</td>\n",
       "      <td>...</td>\n",
       "      <td>...</td>\n",
       "      <td>...</td>\n",
       "      <td>...</td>\n",
       "      <td>...</td>\n",
       "      <td>...</td>\n",
       "      <td>...</td>\n",
       "      <td>...</td>\n",
       "    </tr>\n",
       "    <tr>\n",
       "      <th>953</th>\n",
       "      <td>-1</td>\n",
       "      <td>1</td>\n",
       "      <td>1</td>\n",
       "      <td>1</td>\n",
       "      <td>-1</td>\n",
       "      <td>-1</td>\n",
       "      <td>-1</td>\n",
       "      <td>1</td>\n",
       "      <td>1</td>\n",
       "    </tr>\n",
       "    <tr>\n",
       "      <th>954</th>\n",
       "      <td>-1</td>\n",
       "      <td>1</td>\n",
       "      <td>-1</td>\n",
       "      <td>1</td>\n",
       "      <td>1</td>\n",
       "      <td>-1</td>\n",
       "      <td>1</td>\n",
       "      <td>-1</td>\n",
       "      <td>1</td>\n",
       "    </tr>\n",
       "    <tr>\n",
       "      <th>955</th>\n",
       "      <td>-1</td>\n",
       "      <td>1</td>\n",
       "      <td>-1</td>\n",
       "      <td>1</td>\n",
       "      <td>-1</td>\n",
       "      <td>1</td>\n",
       "      <td>1</td>\n",
       "      <td>-1</td>\n",
       "      <td>1</td>\n",
       "    </tr>\n",
       "    <tr>\n",
       "      <th>956</th>\n",
       "      <td>-1</td>\n",
       "      <td>1</td>\n",
       "      <td>-1</td>\n",
       "      <td>-1</td>\n",
       "      <td>1</td>\n",
       "      <td>1</td>\n",
       "      <td>1</td>\n",
       "      <td>-1</td>\n",
       "      <td>1</td>\n",
       "    </tr>\n",
       "    <tr>\n",
       "      <th>957</th>\n",
       "      <td>-1</td>\n",
       "      <td>-1</td>\n",
       "      <td>1</td>\n",
       "      <td>1</td>\n",
       "      <td>1</td>\n",
       "      <td>-1</td>\n",
       "      <td>-1</td>\n",
       "      <td>1</td>\n",
       "      <td>1</td>\n",
       "    </tr>\n",
       "  </tbody>\n",
       "</table>\n",
       "<p>958 rows × 9 columns</p>\n",
       "</div>"
      ],
      "text/plain": [
       "     top-left  top-middle  top-right  middle-left  middle-middle  \\\n",
       "0           1           1          1            1             -1   \n",
       "1           1           1          1            1             -1   \n",
       "2           1           1          1            1             -1   \n",
       "3           1           1          1            1             -1   \n",
       "4           1           1          1            1             -1   \n",
       "..        ...         ...        ...          ...            ...   \n",
       "953        -1           1          1            1             -1   \n",
       "954        -1           1         -1            1              1   \n",
       "955        -1           1         -1            1             -1   \n",
       "956        -1           1         -1           -1              1   \n",
       "957        -1          -1          1            1              1   \n",
       "\n",
       "     middle-right  bottom-left  bottom-middle  bottom-right  \n",
       "0              -1            1             -1            -1  \n",
       "1              -1           -1              1            -1  \n",
       "2              -1           -1             -1             1  \n",
       "3              -1           -1              0             0  \n",
       "4              -1            0             -1             0  \n",
       "..            ...          ...            ...           ...  \n",
       "953            -1           -1              1             1  \n",
       "954            -1            1             -1             1  \n",
       "955             1            1             -1             1  \n",
       "956             1            1             -1             1  \n",
       "957            -1           -1              1             1  \n",
       "\n",
       "[958 rows x 9 columns]"
      ]
     },
     "execution_count": 7,
     "metadata": {},
     "output_type": "execute_result"
    }
   ],
   "source": [
    "X"
   ]
  },
  {
   "cell_type": "code",
   "execution_count": 8,
   "id": "b797bc38",
   "metadata": {},
   "outputs": [
    {
     "data": {
      "text/plain": [
       "0      1\n",
       "1      1\n",
       "2      1\n",
       "3      1\n",
       "4      1\n",
       "      ..\n",
       "953    0\n",
       "954    0\n",
       "955    0\n",
       "956    0\n",
       "957    0\n",
       "Name: class, Length: 958, dtype: int64"
      ]
     },
     "execution_count": 8,
     "metadata": {},
     "output_type": "execute_result"
    }
   ],
   "source": [
    "y"
   ]
  },
  {
   "cell_type": "code",
   "execution_count": 9,
   "id": "32cb7f54",
   "metadata": {},
   "outputs": [],
   "source": [
    "X = np.array(X)\n",
    "y = np.array(y)"
   ]
  },
  {
   "cell_type": "markdown",
   "id": "5572138d",
   "metadata": {},
   "source": [
    "## Definindo a função de fitness\n",
    "Para resolver o problema, teremos a seguinte construção:\n",
    "$result=sigmoid(x\\dot W)$, onde $x=[x_1,x_2,...,x_8,x_9]$ é o input e $W=[w_1,w_2,...,w_8,w_9]$ são os pesos, que serão multiplicados e então normalizados pela função $sigmoid$, que será usada para calcular o valor de $\\hat{y}$, onde<br>\n",
    "$\\hat{y}=1, se\\ result>0.5$<br>\n",
    "$\\hat{y}=0, se\\ result<=0.5$<br>\n",
    "Dessa forma, a fitness function será dada pela maximização de $sum(\\hat{y}==y)$, ou seja, se:\n",
    "$\\hat{y}=[1,0,0,1,1]$ e $y=[1,1,0,1,1]$, $(\\hat{y}==y)=[1,0,1,1,1]$, logo, $sum(\\hat{y}==y)=4$"
   ]
  },
  {
   "cell_type": "code",
   "execution_count": 10,
   "id": "9e2a9105",
   "metadata": {},
   "outputs": [],
   "source": [
    "def sigmoid(x: np.ndarray) -> np.float64:\n",
    "    return 1 / (1 + np.exp(-x))\n",
    "\n",
    "def fitness_function(x: np.ndarray, W: np.ndarray, y: np.ndarray) -> np.ndarray:\n",
    "    assert(x.shape[1]==W.shape[0])\n",
    "    assert(x.shape[0]==y.shape[0])\n",
    "    y_hat = sigmoid(x.dot(W))\n",
    "    vfunc = np.vectorize(lambda x : 1 if x > 0.5 else 0)\n",
    "    y_hat = vfunc(y_hat)\n",
    "    \n",
    "    return np.sum(np.apply_along_axis(lambda x : x==y, axis=0, arr=y_hat), axis=0)\n",
    "    "
   ]
  },
  {
   "cell_type": "code",
   "execution_count": 11,
   "id": "c5c900f3",
   "metadata": {},
   "outputs": [],
   "source": [
    "x_dummy = np.random.randint(-1, 2, (20, 9))\n",
    "W_dummy = np.random.uniform(-2, 2, (9, 10))\n",
    "y_dummy = np.random.randint(0, 2, 20)"
   ]
  },
  {
   "cell_type": "code",
   "execution_count": 12,
   "id": "4a6c4200",
   "metadata": {
    "scrolled": true
   },
   "outputs": [
    {
     "data": {
      "text/plain": [
       "array([10, 13,  7, 11, 11,  6, 14, 12,  9, 10])"
      ]
     },
     "execution_count": 12,
     "metadata": {},
     "output_type": "execute_result"
    }
   ],
   "source": [
    "fitness_function(x_dummy, W_dummy, y_dummy)"
   ]
  },
  {
   "cell_type": "markdown",
   "id": "59e2b189",
   "metadata": {},
   "source": [
    "## Distribuição do Dataset\n",
    "Criação de K-Fold"
   ]
  },
  {
   "cell_type": "markdown",
   "id": "a5837f8e",
   "metadata": {},
   "source": [
    "## Definição dos hiperparâmetros"
   ]
  },
  {
   "cell_type": "code",
   "execution_count": 13,
   "id": "b3f9a872",
   "metadata": {},
   "outputs": [],
   "source": [
    "POP_SIZE       = 100       # Tamanho da população\n",
    "PROB_CROSSOVER = 0.75      # Probabilidade de Crossing-over\n",
    "PROB_MUTATION  = 0.5       # Probabilidade de Mutação\n",
    "BOUNDS         = (-10, 10) # Limite de domínio\n",
    "MUTATE_BOUND   = 0.01      # Porcentagem de quanto do domínio será mutacionado\n",
    "ELITISM        = 0.2       # Porcentagem de quanto dos melhores indivíduos serão passados para a próxima geração\n",
    "MAX_ITER       = 100       # Número máximo de gerações"
   ]
  },
  {
   "cell_type": "code",
   "execution_count": 14,
   "id": "e4646561",
   "metadata": {},
   "outputs": [
    {
     "name": "stdout",
     "output_type": "stream",
     "text": [
      "(9, 100)\n"
     ]
    }
   ],
   "source": [
    "gen = np.random.uniform(BOUNDS[0], BOUNDS[1], (X.shape[1], POP_SIZE))\n",
    "print(gen.shape)"
   ]
  },
  {
   "cell_type": "code",
   "execution_count": 15,
   "id": "e787572c",
   "metadata": {},
   "outputs": [],
   "source": [
    "bound_mut = MUTATE_BOUND * (np.abs(BOUNDS[0]) + np.abs(BOUNDS[1]))"
   ]
  },
  {
   "cell_type": "code",
   "execution_count": 75,
   "id": "5443e6af",
   "metadata": {},
   "outputs": [],
   "source": [
    "for j in range(MAX_ITER):\n",
    "    fitness = fitness_function(X, gen, y)\n",
    "#     print(f'Geração {j}')\n",
    "#     print(f'Média   {np.mean(fitness)}')\n",
    "#     print(f'Melhor  {np.max(fitness)}')\n",
    "\n",
    "    prob_distribution = fitness/np.sum(fitness)\n",
    "    ind = np.array(range(0, POP_SIZE))\n",
    "    temp = np.column_stack((prob_distribution, ind))\n",
    "    temp = temp[np.argsort(temp[:,0]),]\n",
    "    sorted_prob_distribution = temp[:,0]\n",
    "\n",
    "    best_index = POP_SIZE - np.maximum(1, int(ELITISM*POP_SIZE))\n",
    "    best_ind = range(best_index, POP_SIZE)\n",
    "    best_ind = temp[best_ind, 1]\n",
    "\n",
    "    selected1 = np.random.choice(np.array(range(len(sorted_prob_distribution))), p=sorted_prob_distribution, size=POP_SIZE)\n",
    "    selected2 = np.random.choice(selected1, POP_SIZE, replace=False)\n",
    "\n",
    "    ind      = np.asarray(temp[selected1, 1], dtype=int).tolist()\n",
    "    selected = gen[:, ind]\n",
    "    f1       = fitness[ind]\n",
    "    ind      = np.asarray(temp[selected2, 1], dtype=int).tolist()\n",
    "    mates    = gen[:, ind]\n",
    "    f2       = fitness[ind]\n",
    "    offspring = []\n",
    "    r = np.random.uniform(0, 1, POP_SIZE)\n",
    "    for i in range(0, POP_SIZE):\n",
    "        if r[i] < PROB_CROSSOVER:\n",
    "            gamma = np.random.uniform(0, 1, selected.shape[0])\n",
    "            child = (1-gamma)*selected[:,i] + gamma*(mates[:,i])\n",
    "        else:\n",
    "            if f1[i] < f2[i]:\n",
    "                child = mates[:,i]\n",
    "            else:\n",
    "                child = selected[:,i]\n",
    "        offspring.append(child)\n",
    "\n",
    "    r = np.random.uniform(0, 1, POP_SIZE)\n",
    "\n",
    "    mutations = np.random.uniform(-bound_mut, bound_mut, (selected.shape[0], selected.shape[1]))\n",
    "    r         = np.random.uniform(0, 1, (selected.shape[0], selected.shape[1])) \n",
    "    r         = r < PROB_MUTATION\n",
    "    mutations = np.multiply(mutations, r)\n",
    "\n",
    "    mutations_swapped = np.swapaxes(mutations, 0, 1)\n",
    "\n",
    "    offspring = np.array(np.array(offspring) + mutations_swapped)\n",
    "    offspring = offspring.reshape(offspring.shape[1], offspring.shape[0])\n",
    "\n",
    "    new_fit = fitness_function(X, offspring, y)\n",
    "    ind = range(0, POP_SIZE)\n",
    "    temp = np.column_stack((new_fit, ind))\n",
    "    temp = temp[np.argsort(-temp[:,0]),]\n",
    "\n",
    "    ind_replace = np.array(temp[best_index:POP_SIZE, 1], dtype=int).tolist()\n",
    "\n",
    "    next_gen = np.copy(offspring)\n",
    "\n",
    "    next_gen[:,ind_replace] = gen[:,np.asarray(best_ind, dtype=int).tolist()]\n",
    "\n",
    "    gen = np.copy(next_gen)\n"
   ]
  },
  {
   "cell_type": "code",
   "execution_count": 76,
   "id": "7f4cfa80",
   "metadata": {},
   "outputs": [
    {
     "name": "stdout",
     "output_type": "stream",
     "text": [
      "Accuracy 0.8914405010438413\n"
     ]
    }
   ],
   "source": [
    "print(f'Accuracy {np.max(fitness)/X.shape[0]}')"
   ]
  },
  {
   "cell_type": "code",
   "execution_count": 77,
   "id": "ab6a7989",
   "metadata": {},
   "outputs": [],
   "source": [
    "from sklearn.base import BaseEstimator\n",
    "class GA(BaseEstimator):\n",
    "    def __init__():\n",
    "        pass"
   ]
  },
  {
   "cell_type": "code",
   "execution_count": null,
   "id": "8b4220b1",
   "metadata": {},
   "outputs": [],
   "source": []
  }
 ],
 "metadata": {
  "kernelspec": {
   "display_name": "Python 3",
   "language": "python",
   "name": "python3"
  },
  "language_info": {
   "codemirror_mode": {
    "name": "ipython",
    "version": 3
   },
   "file_extension": ".py",
   "mimetype": "text/x-python",
   "name": "python",
   "nbconvert_exporter": "python",
   "pygments_lexer": "ipython3",
   "version": "3.9.5"
  }
 },
 "nbformat": 4,
 "nbformat_minor": 5
}
